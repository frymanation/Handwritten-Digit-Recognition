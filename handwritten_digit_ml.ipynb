{
 "cells": [
  {
   "cell_type": "code",
   "execution_count": 1,
   "metadata": {},
   "outputs": [],
   "source": [
    "# Importing Packages\n",
    "import keras\n",
    "from keras.datasets import mnist\n",
    "from keras.models import Sequential\n",
    "from keras.layers import Dense, Flatten, Dropout, Conv2D, MaxPool2D\n",
    "from keras import backend as K \n",
    "\n",
    "num_classes = 10\n",
    "\n",
    "# Split the dataset\n",
    "(X_train, y_train), (X_test, y_test) = mnist.load_data()"
   ]
  },
  {
   "cell_type": "code",
   "execution_count": 2,
   "metadata": {},
   "outputs": [],
   "source": [
    "# Data Preprocessing\n",
    "X_train = X_train.reshape(X_train.shape[0], 28, 28, 1)\n",
    "X_test = X_test.reshape(X_test.shape[0], 28, 28, 1)\n",
    "input_shape = (28, 28, 1)\n",
    "\n",
    "# Conversion of class vectors to matrices of binary class\n",
    "y_train = keras.utils.to_categorical(y_train, num_classes)\n",
    "y_test = keras.utils.to_categorical(y_test, num_classes)\n",
    "\n",
    "X_train = X_train.astype('float32')\n",
    "X_test = X_test.astype('float32')\n",
    "\n",
    "X_train /= 255\n",
    "X_test /= 255"
   ]
  },
  {
   "cell_type": "code",
   "execution_count": 6,
   "metadata": {},
   "outputs": [
    {
     "name": "stderr",
     "output_type": "stream",
     "text": [
      "WARNING:absl:At this time, the v2.11+ optimizer `tf.keras.optimizers.Adadelta` runs slowly on M1/M2 Macs, please use the legacy Keras optimizer instead, located at `tf.keras.optimizers.legacy.Adadelta`.\n",
      "WARNING:absl:There is a known slowdown when using v2.11+ Keras optimizers on M1/M2 Macs. Falling back to the legacy Keras optimizer, i.e., `tf.keras.optimizers.legacy.Adadelta`.\n"
     ]
    }
   ],
   "source": [
    "# Create the Model\n",
    "batch_size = 128\n",
    "num_classes = 10\n",
    "epochs = 10\n",
    "\n",
    "model = Sequential()\n",
    "model.add(Conv2D(32, kernel_size=(3, 3), activation='relu', input_shape=input_shape))\n",
    "model.add(Conv2D(64, (3, 3), activation='relu', input_shape=input_shape))\n",
    "model.add(MaxPool2D(pool_size=(2, 2)))\n",
    "model.add(Dropout(0.25))\n",
    "model.add(Flatten())\n",
    "model.add(Dense(256, activation='relu'))\n",
    "model.add(Dropout(0.5))\n",
    "model.add(Dense(num_classes, activation='softmax'))\n",
    "model.compile(loss=keras.losses.categorical_crossentropy, optimizer=keras.optimizers.Adadelta(), metrics=['accuracy'])\n",
    "\n"
   ]
  },
  {
   "cell_type": "code",
   "execution_count": 7,
   "metadata": {},
   "outputs": [
    {
     "name": "stdout",
     "output_type": "stream",
     "text": [
      "Epoch 1/10\n",
      "469/469 [==============================] - 32s 67ms/step - loss: 2.2770 - accuracy: 0.1652 - val_loss: 2.2258 - val_accuracy: 0.3093\n",
      "Epoch 2/10\n",
      "469/469 [==============================] - 30s 64ms/step - loss: 2.1946 - accuracy: 0.2995 - val_loss: 2.1245 - val_accuracy: 0.5558\n",
      "Epoch 3/10\n",
      "469/469 [==============================] - 32s 69ms/step - loss: 2.0863 - accuracy: 0.4395 - val_loss: 1.9850 - val_accuracy: 0.6639\n",
      "Epoch 4/10\n",
      "469/469 [==============================] - 32s 69ms/step - loss: 1.9405 - accuracy: 0.5337 - val_loss: 1.7957 - val_accuracy: 0.7218\n",
      "Epoch 5/10\n",
      "469/469 [==============================] - 33s 70ms/step - loss: 1.7477 - accuracy: 0.6004 - val_loss: 1.5564 - val_accuracy: 0.7529\n",
      "Epoch 6/10\n",
      "469/469 [==============================] - 34s 72ms/step - loss: 1.5257 - accuracy: 0.6465 - val_loss: 1.2985 - val_accuracy: 0.7788\n",
      "Epoch 7/10\n",
      "469/469 [==============================] - 35s 74ms/step - loss: 1.3068 - accuracy: 0.6805 - val_loss: 1.0670 - val_accuracy: 0.8062\n",
      "Epoch 8/10\n",
      "469/469 [==============================] - 35s 75ms/step - loss: 1.1280 - accuracy: 0.7061 - val_loss: 0.8889 - val_accuracy: 0.8274\n",
      "Epoch 9/10\n",
      "469/469 [==============================] - 34s 73ms/step - loss: 0.9959 - accuracy: 0.7274 - val_loss: 0.7628 - val_accuracy: 0.8399\n",
      "Epoch 10/10\n",
      "469/469 [==============================] - 40s 86ms/step - loss: 0.8964 - accuracy: 0.7436 - val_loss: 0.6733 - val_accuracy: 0.8504\n",
      "The model has successfully been trained\n",
      "Saving the bot as mnist.h5\n"
     ]
    },
    {
     "name": "stderr",
     "output_type": "stream",
     "text": [
      "/Library/Frameworks/Python.framework/Versions/3.11/lib/python3.11/site-packages/keras/src/engine/training.py:3000: UserWarning: You are saving your model as an HDF5 file via `model.save()`. This file format is considered legacy. We recommend using instead the native Keras format, e.g. `model.save('my_model.keras')`.\n",
      "  saving_api.save_model(\n"
     ]
    }
   ],
   "source": [
    "# Training the model\n",
    "hist = model.fit(X_train, y_train, batch_size=batch_size, epochs=epochs, verbose=1, validation_data=(X_test, y_test))\n",
    "print(\"The model has successfully been trained\")\n",
    "model.save('mnist.h5')\n",
    "print(f\"Saving the bot as mnist.h5\")"
   ]
  },
  {
   "cell_type": "code",
   "execution_count": 8,
   "metadata": {},
   "outputs": [
    {
     "name": "stdout",
     "output_type": "stream",
     "text": [
      "Test loss: 0.6732732653617859\n",
      "Test Accuracy: 0.8503999710083008\n"
     ]
    }
   ],
   "source": [
    "# Evaluating the model\n",
    "score = model.evaluate(X_test, y_test, verbose=0)\n",
    "print(f'Test loss: {score[0]}' )\n",
    "print(f'Test Accuracy: {score[1]}')"
   ]
  },
  {
   "cell_type": "code",
   "execution_count": 15,
   "metadata": {},
   "outputs": [],
   "source": [
    "# Creation of GUI to predict digits\n",
    "from keras.models import load_model\n",
    "from tkinter import *\n",
    "import tkinter as tk \n",
    "from PIL import ImageGrab, Image \n",
    "\n",
    "# Loading model\n",
    "model = load_model('mnist.h5')"
   ]
  },
  {
   "cell_type": "code",
   "execution_count": 18,
   "metadata": {},
   "outputs": [],
   "source": [
    "# Defining function to predict digit\n",
    "def predict_digit(img):\n",
    "    # Resizing image to 28x28\n",
    "    img = img.resize((28, 28))\n",
    "    # Convert rgb to greyscale\n",
    "    img = img.Convert('L')\n",
    "    img . np.array(img)\n",
    "\n",
    "    # Reshaping for model normilization\n",
    "    img = img.reshape(1, 28, 28, 1)\n",
    "    img = img/255\n",
    "\n",
    "    # Predicting the class\n",
    "    res = model.predict([img])[0]\n",
    "    return np.argmax(res), max(res)"
   ]
  },
  {
   "cell_type": "code",
   "execution_count": null,
   "metadata": {},
   "outputs": [],
   "source": []
  }
 ],
 "metadata": {
  "kernelspec": {
   "display_name": "Python 3",
   "language": "python",
   "name": "python3"
  },
  "language_info": {
   "codemirror_mode": {
    "name": "ipython",
    "version": 3
   },
   "file_extension": ".py",
   "mimetype": "text/x-python",
   "name": "python",
   "nbconvert_exporter": "python",
   "pygments_lexer": "ipython3",
   "version": "3.11.3"
  }
 },
 "nbformat": 4,
 "nbformat_minor": 2
}
